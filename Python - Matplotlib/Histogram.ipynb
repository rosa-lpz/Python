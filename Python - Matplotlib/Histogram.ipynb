{
 "cells": [
  {
   "cell_type": "markdown",
   "id": "8488fd89-1d82-47a8-ba26-74eb8ef9fd4e",
   "metadata": {},
   "source": [
    "# Histogram"
   ]
  },
  {
   "cell_type": "code",
   "execution_count": 6,
   "id": "69123129-2e2d-45c5-a4ed-6976d0e66a95",
   "metadata": {},
   "outputs": [],
   "source": [
    "import pandas as pd\n",
    "from matplotlib import pyplot as plt"
   ]
  },
  {
   "cell_type": "code",
   "execution_count": 4,
   "id": "3bf26d39-f8d5-4fa7-8d74-24f0a55f2d1f",
   "metadata": {},
   "outputs": [],
   "source": [
    "ages = [15, 16,17,20,21,21,22,23,24,25,26,30,31,32,35]\n",
    "bins = [15,20,25,30,35]"
   ]
  },
  {
   "cell_type": "code",
   "execution_count": 5,
   "id": "cb6f725a-737b-45cc-b4ce-5855023ded34",
   "metadata": {},
   "outputs": [
    {
     "data": {
      "image/png": "[encoded data removed]",
      "text/plain": [
       "<Figure size 640x480 with 1 Axes>"
      ]
     },
     "metadata": {},
     "output_type": "display_data"
    }
   ],
   "source": [
    "plt.hist(ages, bins, edgecolor ='black')\n",
    "plt.show()"
   ]
  },
  {
   "cell_type": "markdown",
   "id": "8f0a859b-9a62-4aac-a559-b3816ec147e1",
   "metadata": {},
   "source": [
    "# References\n",
    "\n",
    "**Histogram**\n",
    "* https://matplotlib.org/stable/api/_as_gen/matplotlib.pyplot.hist.html\n",
    "* https://edu.gcfglobal.org/es/estadistica-basica/histograma-de-datos-/1/\n",
    "\n",
    "**Setting the size**\n",
    "* https://drawingfromdata.com/pandas/seaborn/matplotlib/visualization/setting-figure-size-matplotlib-seaborn.html\n",
    "\n",
    "**Videos**\n",
    "* Matplotlib Tutorial - Histograms: https://youtu.be/XDv6T4a0RNc"
   ]
  },
  {
   "cell_type": "code",
   "execution_count": null,
   "id": "486c7747-7f06-44db-89d9-7439fa33c5fe",
   "metadata": {},
   "outputs": [],
   "source": []
  }
 ],
 "metadata": {
  "kernelspec": {
   "display_name": "Python 3 (ipykernel)",
   "language": "python",
   "name": "python3"
  },
  "language_info": {
   "codemirror_mode": {
    "name": "ipython",
    "version": 3
   },
   "file_extension": ".py",
   "mimetype": "text/x-python",
   "name": "python",
   "nbconvert_exporter": "python",
   "pygments_lexer": "ipython3",
   "version": "3.12.7"
  }
 },
 "nbformat": 4,
 "nbformat_minor": 5
}
